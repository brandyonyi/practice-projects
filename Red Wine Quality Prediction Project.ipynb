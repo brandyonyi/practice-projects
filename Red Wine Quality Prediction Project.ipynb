{
 "cells": [
  {
   "cell_type": "code",
   "execution_count": 2,
   "id": "d908285a",
   "metadata": {},
   "outputs": [
    {
     "name": "stdout",
     "output_type": "stream",
     "text": [
      "hello\n"
     ]
    }
   ],
   "source": [
    "print (\"hello\")"
   ]
  },
  {
   "cell_type": "code",
   "execution_count": 3,
   "id": "6b402920",
   "metadata": {},
   "outputs": [
    {
     "name": "stdout",
     "output_type": "stream",
     "text": [
      "onyeka egbochukwu\n"
     ]
    }
   ],
   "source": [
    "print(\"onyeka egbochukwu\")"
   ]
  },
  {
   "cell_type": "code",
   "execution_count": 4,
   "id": "843ce7f7",
   "metadata": {},
   "outputs": [
    {
     "name": "stdout",
     "output_type": "stream",
     "text": [
      "202.567\n"
     ]
    }
   ],
   "source": [
    "x=200\n",
    "y=2.567\n",
    "print (x+y)"
   ]
  },
  {
   "cell_type": "code",
   "execution_count": 5,
   "id": "347d8bf3",
   "metadata": {},
   "outputs": [
    {
     "name": "stdout",
     "output_type": "stream",
     "text": [
      "77.91195948578107\n"
     ]
    }
   ],
   "source": [
    "x=200\n",
    "y=2.567\n",
    "print (x/y)"
   ]
  },
  {
   "cell_type": "code",
   "execution_count": null,
   "id": "6d608304",
   "metadata": {},
   "outputs": [],
   "source": []
  }
 ],
 "metadata": {
  "kernelspec": {
   "display_name": "Python 3 (ipykernel)",
   "language": "python",
   "name": "python3"
  },
  "language_info": {
   "codemirror_mode": {
    "name": "ipython",
    "version": 3
   },
   "file_extension": ".py",
   "mimetype": "text/x-python",
   "name": "python",
   "nbconvert_exporter": "python",
   "pygments_lexer": "ipython3",
   "version": "3.11.5"
  }
 },
 "nbformat": 4,
 "nbformat_minor": 5
}
